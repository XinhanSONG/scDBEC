{
 "cells": [
  {
   "cell_type": "code",
   "execution_count": 1,
   "metadata": {},
   "outputs": [],
   "source": [
    "from scDBEC.scDBEC import scDBEC"
   ]
  },
  {
   "cell_type": "code",
   "execution_count": 2,
   "metadata": {},
   "outputs": [],
   "source": [
    "model = scDBEC()"
   ]
  },
  {
   "cell_type": "code",
   "execution_count": 3,
   "metadata": {},
   "outputs": [
    {
     "data": {
      "text/plain": [
       "scDBEC(\n",
       "  (encoder): Sequential(\n",
       "    (0): Linear(in_features=1000, out_features=32, bias=True)\n",
       "    (1): ReLU()\n",
       "  )\n",
       "  (_enc_mu): Linear(in_features=32, out_features=16, bias=True)\n",
       "  (decoder): Sequential(\n",
       "    (0): Linear(in_features=16, out_features=32, bias=True)\n",
       "    (1): ReLU()\n",
       "  )\n",
       "  (_dec_mean): Sequential(\n",
       "    (0): Linear(in_features=32, out_features=1000, bias=True)\n",
       "    (1): MeanAct()\n",
       "  )\n",
       "  (_dec_disp): Sequential(\n",
       "    (0): Linear(in_features=32, out_features=1000, bias=True)\n",
       "    (1): DispAct()\n",
       "  )\n",
       "  (_dec_pi): Sequential(\n",
       "    (0): Linear(in_features=32, out_features=1000, bias=True)\n",
       "    (1): Sigmoid()\n",
       "  )\n",
       "  (zinb_loss): ZINBLoss()\n",
       "  (mmd_loss): MMDLoss()\n",
       ")"
      ]
     },
     "execution_count": 3,
     "metadata": {},
     "output_type": "execute_result"
    }
   ],
   "source": [
    "model"
   ]
  },
  {
   "cell_type": "code",
   "execution_count": null,
   "metadata": {},
   "outputs": [],
   "source": []
  }
 ],
 "metadata": {
  "kernelspec": {
   "display_name": "base",
   "language": "python",
   "name": "python3"
  },
  "language_info": {
   "codemirror_mode": {
    "name": "ipython",
    "version": 3
   },
   "file_extension": ".py",
   "mimetype": "text/x-python",
   "name": "python",
   "nbconvert_exporter": "python",
   "pygments_lexer": "ipython3",
   "version": "3.11.3"
  }
 },
 "nbformat": 4,
 "nbformat_minor": 2
}
